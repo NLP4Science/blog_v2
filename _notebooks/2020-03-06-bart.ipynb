{
 "cells": [
  {
   "cell_type": "markdown",
   "metadata": {},
   "source": [
    "# Introducing BART\n",
    "> Episode 1 a strange new Seq2Seq model with state of the art summarization performance comes to transfomers\n",
    "\n",
    "- toc: true \n",
    "- badges: true\n",
    "- comments: true\n",
    "- categories: [jupyter]\n",
    "- image: images/chart-preview.png"
   ]
  },
  {
   "cell_type": "markdown",
   "metadata": {},
   "source": [
    "### Overview\n",
    "\n",
    "For the past few weeks, I worked on integrating BART into [transformers](https://github.com/huggingface/transformers/). This post covers the high-level differences between BART and it's predecessors, how to use  new `BartForConditionalGeneration` to summarize documents, and a few interesting engineering tricks that accelerate generation."
   ]
  },
  {
   "cell_type": "markdown",
   "metadata": {},
   "source": [
    "### Background: Seq2Seq Pretraining\n",
    "In October 2019, teams from Microsoft, Google and Facebook independently published three new transformer papers: [UniLM](https://arxiv.org/abs/1905.03197), [T5](https://arxiv.org/abs/1910.10683) and [BART](https://arxiv.org/abs/1910.13461). All three papers found that they achieve better downstream performance on generation tasks, like translation and summarization, if they (a) replace BERT's bidirectional architecture with a Seq2Seq architecture and (b) BERT's fill-in-the blank  cloze task with a more complicated mix of pretraining tasks.\n",
    "\n",
    "<!-- **Tasks:** Historically, Seq2Seq models have been used for text generation tasks like summarization and translation. \"BART is particularly effective when finetuned for text generation, but also matches the performance of RoBERTa on GLUE and SQuAD\", with only 10% more parameters. -->"
   ]
  },
  {
   "cell_type": "markdown",
   "metadata": {
    "ExecuteTime": {
     "end_time": "2020-03-07T21:17:48.798208Z",
     "start_time": "2020-03-07T21:17:48.793226Z"
    }
   },
   "source": [
    "Now let's dig deeper into the big Seq2Seq pretraining idea!"
   ]
  },
  {
   "cell_type": "markdown",
   "metadata": {},
   "source": [
    "#### Bert vs. GPT2\n",
    "As the Bart authors' write, \n",
    "> (Bart) can be seen as generalizing Bert (due to the bidirectional encoder) and GPT2 (with the left to right decoder). \n",
    "\n",
    "\n",
    "Bert is pretrained to try to predict masked tokens, and uses the whole sequence to get enough info to make a good guess. This is good for tasks where the prediction at position `i` is allowed to utilize information from positions after `i`, but less useful for tasks where you are not, like text generation, where you generate the next word conditional on the previously generated words.\n",
    "\n",
    "In code, the idea of \"what information you can use when predicting the token at position `i`\" is controlled by an argument called `attention_mask`[^2]\n",
    "<!-- > Note: In this post, we show attention masks in grids where each row `y` represents an output token, and each column `x` represents an input token. If the square at `(y3, x4)` is black. It means that our prediction for `y3` is allowed to utilize information from `x4`. During pretraining, `x` would be the corrupted document, and `y` would be the original. -->\n",
    "\n",
    "\n",
    "Here is Bert's \"Fully-visible\" `attention_mask`: \n",
    "the 1 in the top left cell means that the model can use information from `<BOS>` when it is making predictions about `<EOS>`. \n",
    "    \n",
    "<!-- ![](./bert_mac_small.jpg) -->\n",
    "![](./diagram_bartpost_v2.jpg)\n",
    "<!-- ![](./bert_excel_v2.jpg) -->\n",
    "\n",
    "\n",
    "[^2]: the same parameter that is used to make model predictions invariant to pad tokens."
   ]
  },
  {
   "cell_type": "markdown",
   "metadata": {
    "ExecuteTime": {
     "end_time": "2020-03-07T21:44:38.925844Z",
     "start_time": "2020-03-07T21:44:38.920749Z"
    }
   },
   "source": [
    "GPT2, meanwhile, is pretrained to predict the next word using a causal mask: and is more effective for generation tasks, but less effective on downstream tasks where the whole input yields information for the output.\n",
    "\n",
    "Here is the `attention_mask` for GPT2:"
   ]
  },
  {
   "cell_type": "markdown",
   "metadata": {
    "ExecuteTime": {
     "end_time": "2020-03-10T22:21:09.137392Z",
     "start_time": "2020-03-10T22:21:09.001032Z"
    }
   },
   "source": [
    "![](./diagram_bartpost_gpt2.jpg)"
   ]
  },
  {
   "cell_type": "markdown",
   "metadata": {},
   "source": [
    "#### Encoder-Decoder\n",
    "Our new friends, like Bart, get the best of both worlds: the masking style of bert and the left to right generation style of `GPT2`.\n",
    "\n",
    "The encoder's `attention_mask` is bidirectional:\n",
    "![](./seq2seq_enc_v5.png)\n",
    "\n",
    "and the decoder's `attention_mask` is causal:\n",
    "\n",
    "![](./seq2seq_dec.png)\n",
    "\n",
    "<!-- ![](./causal_with_prefix.jpg) -->\n",
    "\n",
    "\n",
    "<!-- We can think about this `attention_mask` as smushing together our previous two attention masks, or \"Causal Mask  with a fully visible prefix\" in fancier terms.[^4] -->\n",
    "\n",
    "<!-- [^4]: The UniLM paper presents this as a\"causal mask with a fully visible prefix\" -->\n",
    "<!-- , as the UniLM The indices dont line up perfectly for the smush to work, but tokens 1 and 2 are the fully visible prefix (or the input to the encoder) and tokens 3,4,5 are the causally masked suffix (or inputs to the decoder). In summarization terms, you could imagine tokens 1 and 2 as the article, and we generate tokens 3-5 auto-regressively. -->\n",
    "\n",
    "<!-- ![](./t5_mask_diagram.png) -->"
   ]
  },
  {
   "cell_type": "markdown",
   "metadata": {},
   "source": [
    "The encoder and decoder are connected by \"cross-attention\": each decoder layer performs attention over the final hidden state of the encoder output. This presumably nudges the models towards generating output that is closely connected to the original input."
   ]
  },
  {
   "cell_type": "markdown",
   "metadata": {
    "ExecuteTime": {
     "end_time": "2020-03-09T20:34:20.044872Z",
     "start_time": "2020-03-09T20:34:20.042569Z"
    }
   },
   "source": [
    "### Summarization"
   ]
  },
  {
   "cell_type": "markdown",
   "metadata": {},
   "source": [
    "Now, we apply this Seq2Seq method to summarization, where the `input` sequence is the document we want to summarize, and the `output` sequence is a ground truth summary.\n",
    "The Seq2Seq attention pattern is therefore well suited to summarization and other conditional generation tasks. Seq2Seq models are allowed to attend to the whole `input` document, but, as they generate a summary, they can only consider what they've already generated. The numbers confirm this: all the new fancy Seq2Seq models do a lot better than the old less-fancy guys on the CNN/Daily Mail abstractive summarization task, and Bart does especially well."
   ]
  },
  {
   "cell_type": "markdown",
   "metadata": {
    "ExecuteTime": {
     "end_time": "2020-03-11T17:54:04.908553Z",
     "start_time": "2020-03-11T17:54:04.902522Z"
    }
   },
   "source": [
    "|                      |   rouge2 | model_size   | Pretraining   |\n",
    "|:---------------------|---------:|:-------------|:--------------|\n",
    "| PT-Gen (not seq2seq) |    17.28 | 22 M         | None          |\n",
    "| TransformerAbs       |    17.76 | 200M         | None          |\n",
    "| BertSumABS           |    19.39 | 220 M        | Encoder       |\n",
    "| UniLM                |    20.3  | 340 M        | Seq2Seq       |\n",
    "| T5-base              |    20.34 | 770 M        | Seq2Seq       |\n",
    "| Bart                 |    21.28 | 406 M        | Seq2Seq       |\n",
    "| T5-11B               |    21.55 | 11 B         | Seq2Seq       |"
   ]
  },
  {
   "cell_type": "markdown",
   "metadata": {
    "ExecuteTime": {
     "end_time": "2020-03-07T20:22:23.597072Z",
     "start_time": "2020-03-07T20:22:23.524178Z"
    }
   },
   "source": [
    "`BertSumABS` (from [*Text Summarization with Pretrained Encoders*](https://arxiv.org/abs/1908.08345), uses a Seq2Seq architecture but doesn't pretrain the decoder. `TransformerAbs`, from the same paper, uses a slightly smaller model and no pretraining. `PT-Gen` is from [Get To The Point: Summarization with Pointer-Generator Networks](https://arxiv.org/pdf/1704.04368.pdf)\n",
    "\n",
    "\n"
   ]
  },
  {
   "cell_type": "markdown",
   "metadata": {},
   "source": [
    "### `BartForConditionalGeneration`"
   ]
  },
  {
   "cell_type": "markdown",
   "metadata": {},
   "source": [
    "<!-- Bart uses a \"novel pretraining task\", called Text Infilling which is only possible with a Seq2Seq architecture. For this task, **span** of text is replaced with a single `<mask>` token. This span can be of any length, forcing the model to learn how many tokens to generate. -->"
   ]
  },
  {
   "cell_type": "markdown",
   "metadata": {},
   "source": [
    "**imports**"
   ]
  },
  {
   "cell_type": "code",
   "execution_count": 193,
   "metadata": {
    "ExecuteTime": {
     "end_time": "2020-03-11T17:41:37.001567Z",
     "start_time": "2020-03-11T17:41:36.984621Z"
    },
    "code_folding": [
     0
    ]
   },
   "outputs": [],
   "source": [
    "#collapse-hide\n",
    "INSTALL_MSG = \"\"\"\n",
    "Bart will be released through pip in v 3.0.0, until then use it by installing from source:\n",
    "\n",
    "git clone git@github.com:huggingface/transformers.git\n",
    "cd transformers\n",
    "pip install -e \".[dev]\"\n",
    "\n",
    "\"\"\"\n",
    "\n",
    "import torch\n",
    "import transformers  #  Installed from source at commit e03129ad\n",
    "try:\n",
    "    from transformers import BartTokenizer, BartForConditionalGeneration\n",
    "except ImportError:\n",
    "    raise ImportError(INSTALL_MSG)\n",
    "from IPython.display import display, Markdown\n",
    "\n",
    "torch_device = 'cuda' if torch.cuda.is_available() else 'cpu'\n",
    "\n",
    "LONG_BORING_TENNIS_ARTICLE = \"\"\"\n",
    " Andy Murray  came close to giving himself some extra preparation time for his w\n",
    "edding next week before ensuring that he still has unfinished tennis business to\n",
    " attend to. The world No 4 is into the semi-finals of the Miami Open, but not be\n",
    "fore getting a scare from 21 year-old Austrian Dominic Thiem, who pushed him to \n",
    "4-4 in the second set before going down 3-6 6-4, 6-1 in an hour and three quarte\n",
    "rs. Murray was awaiting the winner from the last eight match between Tomas Berdy\n",
    "ch and Argentina's Juan Monaco. Prior to this tournament Thiem lost in the secon\n",
    "d round of a Challenger event to soon-to-be new Brit Aljaz Bedene. Andy Murray p\n",
    "umps his first after defeating Dominic Thiem to reach the Miami Open semi finals\n",
    " . Muray throws his sweatband into the crowd after completing a 3-6, 6-4, 6-1 vi\n",
    "ctory in Florida . Murray shakes hands with Thiem who he described as a 'strong \n",
    "guy' after the game . And Murray has a fairly simple message for any of his fell\n",
    "ow British tennis players who might be agitated about his imminent arrival into \n",
    "the home ranks: don't complain. Instead the British No 1 believes his colleagues\n",
    " should use the assimilation of the world number 83, originally from Slovenia, a\n",
    "s motivation to better themselves. At present any grumbles are happening in priv\n",
    "ate, and Bedene's present ineligibility for the Davis Cup team has made it less \n",
    "of an issue, although that could change if his appeal to play is allowed by the \n",
    "International Tennis Federation. Murray thinks anyone questioning the move, now \n",
    "it has become official, would be better working on getting their ranking closer \n",
    "to his. 'If he was 500 in the world they wouldn't be that fussed about it but ob\n",
    "viously he threatens their position a bit,' said the 27 year-old Scot. ' and he'\n",
    "s obviously the British number two, comfortably. 'So they can complain but the b\n",
    "est thing to do is use it in the right way and accept it for what it is, and try\n",
    " to use it as motivation whether they agree with it or not. He's British now so \n",
    "they've just got to deal with it. Murray stretches for a return after starting h\n",
    "is quarter final match slowly on the show court . Thiem held nothing back as he \n",
    "raced through the opening set, winning it 6-3 with a single break . The young Au\n",
    "strian is considered to be one of the hottest prospects on the ATP Tour . 'I wou\n",
    "ld hope that all the guys who are below him now like James (Ward) , Kyle (Edmund\n",
    ") , Liam (Broady) they will use it as motivation. If he becomes eligible for Dav\n",
    "is Cup then those guys are going to have to prove themselves. 'It can only be se\n",
    "en as a positive for those guys using it to try to get better. He's a good playe\n",
    "r but so are James and Kyle and Liam has improved. Aljaz is there, he's on the t\n",
    "our every week, the other guys aren't quite there yet.' For the first time Murra\n",
    "y, who has an encyclopaedic knowledge of the top 100, gave his opinion of Bedene\n",
    ": 'He's a good player with a very good serve. He's a legitimate top 100 player, \n",
    "when he plays Challengers he's there or thereabouts, when he plays on the main t\n",
    "our he wins matches, it's not like he turns up and always loses in the first rou\n",
    "nd. Murray's fiancee was once again watching from the stands shaded by a huge br\n",
    "immed hat . Kim Sears flashes her enormous diamond engagement ring while watchin\n",
    "g her beau on court . 'He had a bad injury last year (wrist) but has recovered w\n",
    "ell. I would imagine he would keep moving up the rankings although I don't know \n",
    "exactly how high he can go. I've practised with him a couple of times, I haven't\n",
    " seen him play loads, but when you serve as well as he does it helps. I would im\n",
    "agine he' s going to be comfortably in the top 70 or 80 in the world for a while\n",
    ".' It is understood the Lawn Tennis Association will give background support to \n",
    "his case regarding the Davis Cup but have made it clear that the onus is on him \n",
    "to lead the way. An official statement said: 'To have another player in the men'\n",
    "s top 100 is clearly a positive thing for British tennis and so we very much wel\n",
    "come Aljaz's change in citizenship.' The last comparable switch came twenty year\n",
    "s ago when Greg Rusedski arrived from Canada. It was by no means universally pop\n",
    "ular but, like Bedene, he pledged that he was in for the long haul and, in fairn\n",
    "ess to him, he proved true to his word. Loising the first set shocked Murray int\n",
    "o life as he raced to a commanding lead in the second . The No 3 seed sent over \n",
    "a few glaring looks towards his team before winning the second set . Murray had \n",
    "to put such matters aside as he tackled the unusually talented Thiem, a delight \n",
    "to watch. Coached by Boris Becker's veteran mentor Gunter Bresnik, he slightly r\n",
    "esembles Andy Roddick and hits with similar power but more elegance. His single \n",
    "handed backhand is a thing of rare beauty. However, he has had a mediocre season\n",
    " coming into this event and there was little to forewarn of his glorious shotmak\n",
    "ing that seemed to catch Murray unawares early on. The world No 4 looked to have\n",
    " worked him out in the second, but then suffered one of his periopdic mental lap\n",
    "ses and let him back in from 4-1 before closing it out with a break. After break\n",
    "ing him for 3-1 in the decider the Austrian whirlwind burnt itself out. 'He's a \n",
    "strong guy who hits the ball hard and it became a very physical match,' said Mur\n",
    "ray. Murray was presented with a celebratory cake after winning his 500th match \n",
    "in the previous round .\n",
    "\"\"\".replace('\\n','')"
   ]
  },
  {
   "cell_type": "code",
   "execution_count": null,
   "metadata": {},
   "outputs": [],
   "source": [
    "#collapse-show\n",
    "tokenizer = BartTokenizer.from_pretrained('bart-large-cnn')\n",
    "model = BartForConditionalGeneration.from_pretrained('bart-large-cnn')\n",
    "\n",
    "article_input_ids = tokenizer.batch_encode_plus([LONG_BORING_TENNIS_ARTICLE], return_tensors='pt', max_length=1024)['input_ids'].to(torch_device)\n",
    "summary_ids = model.generate(article_input_ids, num_beams=4, length_penalty=2.0,\n",
    "                             max_length=140, min_len=55)\n",
    "\n",
    "summary_txt = tokenizer.decode(summary_ids.squeeze(), skip_special_tokens=True)\n",
    "display(Markdown('> **Summary:'+summary_txt))"
   ]
  },
  {
   "cell_type": "markdown",
   "metadata": {},
   "source": [
    "GPT2 (which in fairness is not finetuned for summarization) cannot really continue the tennis article sensically."
   ]
  },
  {
   "cell_type": "code",
   "execution_count": 192,
   "metadata": {
    "ExecuteTime": {
     "end_time": "2020-03-11T17:39:20.155017Z",
     "start_time": "2020-03-11T17:38:58.276917Z"
    }
   },
   "outputs": [
    {
     "name": "stderr",
     "output_type": "stream",
     "text": [
      "Setting `pad_token_id` to 50256 (first `eos_token_id`) to generate sequence\n"
     ]
    },
    {
     "data": {
      "text/markdown": [
       "> **GPT2:**  'To have a player like James Ward, Kyle Edmund, Liam Broady and Aljaz Bedene in the top 100 is a huge achievement for the Lawn Tennis Association. The Lawn Tennis Association is committed to the development of the sport and the development of the sport's players. The Lawn Tennis Association is committed to the development of the sport and the development of the sport's players. The Lawn Tennis Association is committed to the development of the sport and the development of the sport's players. The Lawn Tennis Association is committed to the development of the sport and the development of the sport's players. The Lawn Tennis Association is committed to the development of the sport and the development of the sport's players. The Lawn Tennis Association is committed to the development of the sport and the development of the"
      ],
      "text/plain": [
       "<IPython.core.display.Markdown object>"
      ]
     },
     "metadata": {},
     "output_type": "display_data"
    }
   ],
   "source": [
    "#collapse-show\n",
    "from transformers import GPT2LMHeadModel, GPT2Tokenizer\n",
    "gpt2_tok = GPT2Tokenizer.from_pretrained('gpt2')\n",
    "gpt2_model = GPT2LMHeadModel.from_pretrained('gpt2', output_past=True)\n",
    "# truncate to 869 tokens so that we have space to generate another 155\n",
    "enc = gpt2_tok.encode(LONG_BORING_TENNIS_ARTICLE, max_length=1024-155, return_tensors='pt') \n",
    "# Generate another 155 tokens\n",
    "source_and_summary_ids = gpt2_model.generate(enc, max_length=1024, do_sample=False)\n",
    "# Only show the new ones\n",
    "end_of_source = \"An official statement said:\" \n",
    "_, summary_gpt2 = gpt2_tok.decode(source_and_summary_ids[0]).split(end_of_source)\n",
    "display(Markdown('> **GPT2:** ' + summary_gpt2))"
   ]
  },
  {
   "cell_type": "markdown",
   "metadata": {},
   "source": [
    "More importantly, these snippets show that even though `BartForConditionalGeneration` is a seq2seq model, while `GPT2LMHeadModel` is not, they can invoked in similar ways for generation."
   ]
  },
  {
   "cell_type": "markdown",
   "metadata": {},
   "source": [
    "Now that we have a high level understanding of Bart, lets finish by zooming in on some engineering tricks that make generation faster.\n",
    "Warning: The following has a heavier engineering focus than the rest of the post"
   ]
  },
  {
   "cell_type": "markdown",
   "metadata": {},
   "source": [
    "## Incremental Decoding"
   ]
  },
  {
   "cell_type": "markdown",
   "metadata": {
    "ExecuteTime": {
     "end_time": "2020-03-07T04:03:37.743603Z",
     "start_time": "2020-03-07T04:03:37.737338Z"
    }
   },
   "source": [
    "Here is a really slow (pseudocode) way to greedily generate summaries:\n",
    "    \n",
    "```python\n",
    "output_tokens = [bos]\n",
    "while not done:\n",
    "     encoder_hidden_state = model.encoder(article_input_ids)\n",
    "     logits = model.decoder(encoder_hidden_state, output_tokens)\n",
    "     next_word = logits.argmax()\n",
    "     output_tokens.append(next_word)\n",
    "     if next_word == eos: break\n",
    "```"
   ]
  },
  {
   "cell_type": "markdown",
   "metadata": {},
   "source": [
    "Let's say `N = len(article_input_ids)` and `M = len(output_tokens)` when we return. Let's also ignore the cost of encoder-decoder attention.\n",
    "Then the complexity of this approach is roughly\n",
    "- $(N \\cdot M)$ (we call the encoder `M` times on `N` tokens)\n",
    "-  $+ \\sum_{m=1}^{M} m = \\frac{M(M+1)}{2}$   (we call the decoder `M` times on 1 token then 2 tokens, all the way to M tokens).\n",
    "- Total: $N \\cdot M  + \\frac{M(M+1)}{2}$\n",
    "\n"
   ]
  },
  {
   "cell_type": "markdown",
   "metadata": {
    "ExecuteTime": {
     "end_time": "2020-03-10T19:33:40.649588Z",
     "start_time": "2020-03-10T19:33:40.544607Z"
    }
   },
   "source": [
    "Let's say we are generating a 100 token summary of a 1024 token article, then we have to \"process\"\n",
    "$N \\cdot M  + \\frac{M(M+1)}{2} =  107,450$ tokens"
   ]
  },
  {
   "cell_type": "code",
   "execution_count": 188,
   "metadata": {
    "ExecuteTime": {
     "end_time": "2020-03-10T23:43:48.726602Z",
     "start_time": "2020-03-10T23:43:48.721402Z"
    },
    "code_folding": [
     0
    ]
   },
   "outputs": [],
   "source": [
    "#collapse-hide\n",
    "# show work\n",
    "N,M=1024, 100\n",
    "complexity_simple = int(N*M + ((M*(M+1))/2))\n",
    "msg = \"To generate a 100 token summary of a 1024 token article using this approach, we have to process {:,} tokens.\"\n",
    "#display(Markdown(msg.format(complexity_simple)))"
   ]
  },
  {
   "cell_type": "markdown",
   "metadata": {
    "ExecuteTime": {
     "end_time": "2020-03-07T03:58:26.921905Z",
     "start_time": "2020-03-07T03:58:26.898646Z"
    }
   },
   "source": [
    "Thankfully, we can just hoist the `encoder` call outside the loop!\n",
    "\n",
    "```python\n",
    "output_tokens = [bos]\n",
    "encoder_hidden_state = model.encoder(article_input_ids)\n",
    "while not done:\n",
    "     logits = model.decoder(encoder_hidden_state, output_tokens)\n",
    "     next_word = logits.argmax()\n",
    "     \n",
    "     output_tokens.append(next_word)\n",
    "     if next_word == eos: break\n",
    "```\n"
   ]
  },
  {
   "cell_type": "markdown",
   "metadata": {
    "ExecuteTime": {
     "end_time": "2020-03-10T19:38:18.003081Z",
     "start_time": "2020-03-10T19:38:17.998496Z"
    }
   },
   "source": [
    "Now the complexity is dramatically reduced: $N \\cdot 1  + \\frac{M(M+1)}{2} = 6,074$"
   ]
  },
  {
   "cell_type": "markdown",
   "metadata": {
    "ExecuteTime": {
     "end_time": "2020-03-10T19:44:12.723917Z",
     "start_time": "2020-03-10T19:44:12.716320Z"
    }
   },
   "source": [
    "But we can  go even further, and partially cache the attention outputs for the decoder.\n",
    "This will change our generation loop to:\n",
    "```python\n",
    "output_tokens = [bos]\n",
    "encoder_hidden_state = model.encoder(article_input_ids)\n",
    "cache = None\n",
    "while not done:\n",
    "     logits, cache = model.decoder(encoder_hidden_state, output_tokens[-1], cache=cache)\n",
    "     next_word = logits.argmax()\n",
    "     output_tokens.append(next_word)\n",
    "     if next_word == eos: break\n",
    "```\n",
    "And change our formula to $N + M = 1,124$\n",
    "\n",
    "The nitty-gritty of this trick is explained in the Bonus section below."
   ]
  },
  {
   "cell_type": "markdown",
   "metadata": {},
   "source": [
    "## Conclusion\n",
    "Our first release of `BartModel` prioritized moving quickly and keeping the code simple, but it's still a work in progress. I am currently working on making the implementation in transformers as fast and memory-efficient as the original implementation. Stay tuned for episode 2 of this series, where we try to close the gap. \n",
    "\n",
    "A big thank you to Sasha Rush and Patrick Von Platten for reading many versions of this post, and to the Bart authors for releasing their code and answering questions on Github.\n"
   ]
  },
  {
   "cell_type": "markdown",
   "metadata": {},
   "source": [
    "## Bonus: Partially caching k and v in `DecoderLayer`\n",
    "\n",
    "\n",
    "\n",
    "Here is some pseudocode for attention without all the reshapes and heads and masks and scaling.\n",
    "\n",
    "\n",
    "```python\n",
    "class SimplifiedAttention(nn.Module):\n",
    "    def __init__(self, embed_dim):\n",
    "        self.Wq = torch.nn.Linear(embed_dim, embed_dim)\n",
    "        self.Wk = torch.nn.Linear(embed_dim, embed_dim)\n",
    "        self.Wv = torch.nn.Linear(embed_dim, embed_dim)\n",
    "        self.dense = torch.nn.Linear(embed_dim, embed_dim)\n",
    "    def forward(self, query, key, value):\n",
    "        q = self.Wq(q)\n",
    "        k = self.Wk(k) \n",
    "        v = self.Wv(v)\n",
    "        matmul_qk = torch.matmul(q, k.T)\n",
    "        attention_weights = matmul_qk.softmax(dim=-1)\n",
    "        output = torch.matmul(attention_weights, v)\n",
    "        return self.dense(output)\n",
    "```\n",
    "\n",
    "Now lets glimpse at the callers inside bart's `DecoderLayer`:\n",
    "(LayerNorms and dropouts deleted for simplicity). Here's some more pseudocode\n",
    "\n",
    "```python\n",
    "class SimplifiedDecoderLayer(nn.Module):\n",
    "    \n",
    "    def __init__(self, embed_dim):\n",
    "        self.self_attn = SimplifiedAttention(embed_dim)\n",
    "        self.encoder_attn = SimplifiedAttention(embed_dim)\n",
    "    def forward(x, last_encoder_hidden_state, *masks_etc):\n",
    "         # x shape `(batch_size, tokens_generated_so_far, embed_dim)`\n",
    "         # x comes from decoder\n",
    "\n",
    "        x = self.self_attn(query=x, key=x, value=x) # pay attention to somebody else for a change!\n",
    "        output = self.encoder_attn(\n",
    "            query=x,\n",
    "            key=last_encoder_hidden_state,  # could be None\n",
    "            value=last_encoder_hidden_state,\n",
    "        )\n",
    "        return output\n",
    "```\n",
    "\n",
    "What did we learn?\n",
    "\n",
    "\n",
    "- In `encoder_attention`, we can cache everything that doesn't depend on q, namely these outputs\n",
    "```\n",
    "        k = self.Wk(k) \n",
    "        v = self.Wv(v)\n",
    "```\n",
    "\n",
    "\n",
    "The more exciting optimization is that in `self_attn`, we can cache the part of k,v that depends on \n",
    "`x[:, :1]` the tokens we've already generated. Then each time through the generation loop, we only pass in `x[:, :-1]` and apply concatenation:\n",
    "\n",
    "```python\n",
    "k = torch.cat((past_key, new_k), dim='seq_len') # the seq_len dimension, \n",
    "v = torch.cat((past_value, new_v), dim='seq_len')\n",
    "```\n",
    "\n",
    "\n",
    "Of the 8 `F.linear` ops performed by each DecoderLayer was doing, we've managed to completely cache 2 of them, and almost completely cache 2 more. Overall, we chop off about 40% of the runtime vs only caching encoder_outputs."
   ]
  },
  {
   "cell_type": "code",
   "execution_count": null,
   "metadata": {},
   "outputs": [],
   "source": []
  }
 ],
 "metadata": {
  "hide_input": false,
  "kernelspec": {
   "display_name": "Python 3",
   "language": "python",
   "name": "python3"
  },
  "language_info": {
   "codemirror_mode": {
    "name": "ipython",
    "version": 3
   },
   "file_extension": ".py",
   "mimetype": "text/x-python",
   "name": "python",
   "nbconvert_exporter": "python",
   "pygments_lexer": "ipython3",
   "version": "3.7.5"
  }
 },
 "nbformat": 4,
 "nbformat_minor": 4
}
